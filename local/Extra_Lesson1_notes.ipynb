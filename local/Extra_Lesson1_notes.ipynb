{
 "cells": [
  {
   "cell_type": "markdown",
   "metadata": {},
   "source": [
    "Given Lesson 1's introduction, the program participant should now be able to read in another NetCDF file and plot the results. Complexities may arise owing to dataset format differences. These are addressed below for a specific dataset file."
   ]
  },
  {
   "cell_type": "markdown",
   "metadata": {},
   "source": [
    "## Extra Practice: Application to sea surface temperature data"
   ]
  },
  {
   "cell_type": "markdown",
   "metadata": {},
   "source": [
    "<div class=\"alert alert-block alert-success\">\n",
    "<b>Note: the following is not necessary but is helpful for obtaining the COESSING certificate at the end of the week!</b> as it demonstrates to the instructors that you understand the previous material.\n",
    "</div>"
   ]
  },
  {
   "cell_type": "markdown",
   "metadata": {},
   "source": [
    "Try the following data file. It is sea surface temperature (SST) obtained from RSS:\n",
    "\n",
    "http://data.remss.com/SST/daily/mw_ir/v05.0/netcdf/2020/20200717120000-REMSS-L4_GHRSST-SSTfnd-MW_IR_OI-GLOB-v02.0-fv05.0.nc\n",
    "\n",
    "1. Download the file. Place in a location such as `data/sea_surface_temperature`\n",
    "1. Display the metadata of the file using `xarray`\n",
    "1. Read in the netCDF file\n",
    "1. As we did for SSS, try creating a map of SST as a function of latitude (y-axis) and longitude (x-axis) in units of degrees C (you will need to convert from Kelvin to Celcius)\n",
    "1. **Zoom into the Gulf of Guinea**\n",
    "1. Answer the following two questions:\n",
    "    * What similarities are present in the SST data when compared to the SSS data?\n",
    "    * What differences are present in the SST data when compared to the SSS data?\n",
    "\n",
    "Since this SST data is valid on the same date as the SSS datafile that we just examined (valid on July 17, 2020), there should be some features common to both."
   ]
  },
  {
   "cell_type": "markdown",
   "metadata": {},
   "source": [
    "<div class=\"alert alert-block alert-success\">\n",
    "<b>What you should show to the instructor:</b> You should show one of the following: (1) metadata associated with the above netcdf file and (2) SST as a function of latitude and longitude in degrees C over the Gulf of Guinea region\n",
    "</div>"
   ]
  },
  {
   "cell_type": "markdown",
   "metadata": {},
   "source": [
    "#### A few helpful points to get you started"
   ]
  },
  {
   "cell_type": "markdown",
   "metadata": {},
   "source": [
    "1. The relevant \"sst\" variable is `analyzed_sst`\n",
    "1. Time is given to us in units of seconds since 1981/01/00 00:00\n",
    "1. `analyzed_sst` is not in dimensions of [lat,lon] as expected but in [time,lat,lon]. But there is only one time. So, one way to read in the important data is as follows: `analysed_sst = nc.variables[\"analysed_sst\"][0,:,:]`\n",
    "1. `analyzed_sst` is temperature in units of Kelvin so you need to subtract 273.15 to convert to degrees Celcius\n",
    "1. `analyzed_sst` is given to us as -180 degrees to 180 degrees in longitude. Therefore it is simpler to index the data than it was for sea surface salinity. We provide code below to do this."
   ]
  },
  {
   "cell_type": "markdown",
   "metadata": {},
   "source": [
    "#### Code to read in the sea surface temperature for a single time step"
   ]
  },
  {
   "cell_type": "code",
   "execution_count": null,
   "metadata": {},
   "outputs": [],
   "source": [
    "# Read in the data from the netcdf file.\n",
    "nc = Dataset(infile, \"r\")\n",
    "etime = nc.variables[\"time\"][:] # time in seconds since 1981/01/00 00:00\n",
    "lat = nc.variables[\"lat\"][:] # latitude (degrees), values = [-90, 90]\n",
    "lon = nc.variables[\"lon\"][:] # longitude (degrees), values = [-180, 180]\n",
    "analysed_sst = nc.variables[\"analysed_sst\"][0,:,:] # sea_surface_temperature, Kelvin"
   ]
  },
  {
   "cell_type": "markdown",
   "metadata": {},
   "source": [
    "#### Code to subset the sea surface temperature (SST) dataset near the Gulf of Guinea"
   ]
  },
  {
   "cell_type": "code",
   "execution_count": 33,
   "metadata": {},
   "outputs": [],
   "source": [
    "# Subset for the region of interest.\n",
    "latlim = np.array([-10.0,10.0]) # in degrees\n",
    "lonlim = np.array([-20.0,15.0]) # in degrees\n",
    "latlim = np.double(latlim)\n",
    "lonlim = np.double(lonlim)\n",
    "ilat1 = (lat >= latlim[0]) & (lat <= latlim[1])\n",
    "ilon1 = (lon >= lonlim[0]) & (lon < lonlim[1]);\n",
    "ilat = ilat1;\n",
    "ilon = ilon1;\n",
    "\n",
    "lats = lat[ilat1]\n",
    "lons = lon[ilon1]\n",
    "\n",
    "index1 = np.array(np.where(ilat))\n",
    "index2 = np.array(np.where(ilon))\n",
    "#print(index1)\n",
    "#print(index2)\n",
    "sst_block1 = sst[ilat,:]\n",
    "sst_block1 = sst_block1[:,ilon]\n",
    "\n",
    "nlats = len(lats)\n",
    "nlons = len(lons)\n",
    "sst_block = np.zeros([nlats,nlons])\n",
    "sst_block[0:nlats,0:nlons] = sst_block1"
   ]
  },
  {
   "cell_type": "markdown",
   "metadata": {},
   "source": [
    "#### Code to form a mask for the land."
   ]
  },
  {
   "cell_type": "code",
   "execution_count": 34,
   "metadata": {},
   "outputs": [],
   "source": [
    "# Form a mask for the land.\n",
    "# This mask uses the bad values to identify land.\n",
    "mask = np.zeros([nlats,nlons])\n",
    "igood = (sst_block >= -3) # find good values\n",
    "mask[igood] = 1\n",
    "inan = (sst_block < -3) # find bad values\n",
    "mask[inan] = np.nan # not a number"
   ]
  },
  {
   "cell_type": "markdown",
   "metadata": {},
   "source": [
    "#### Code to plot the SST dataset near the Gulf of Guinea"
   ]
  },
  {
   "cell_type": "code",
   "execution_count": null,
   "metadata": {},
   "outputs": [],
   "source": [
    "# Plot the sea surface temperature.\n",
    "plt.pcolor(lons,lats,sst_block*mask,cmap=\"coolwarm\") # the colormap changes to red/blue\n",
    "plt.xlabel('Longitude (deg)')\n",
    "plt.ylabel('Latitude (deg)')\n",
    "plt.title('Sea Surface Temperature: '+fname) # here we need to insert a date inside the brackets\n",
    "plt.grid()\n",
    "plt.colorbar()\n",
    "#plt.show() # to save the file, we must comment out this line for some reason (ask Dr. Paige)\n",
    "outfile = \"SST_map.png\" # define output filename\n",
    "plt.savefig(outfile,format='png',dpi=200)"
   ]
  },
  {
   "cell_type": "code",
   "execution_count": null,
   "metadata": {},
   "outputs": [],
   "source": []
  }
 ],
 "metadata": {
  "kernelspec": {
   "display_name": "Python 3",
   "language": "python",
   "name": "python3"
  },
  "language_info": {
   "codemirror_mode": {
    "name": "ipython",
    "version": 3
   },
   "file_extension": ".py",
   "mimetype": "text/x-python",
   "name": "python",
   "nbconvert_exporter": "python",
   "pygments_lexer": "ipython3",
   "version": "3.6.9"
  }
 },
 "nbformat": 4,
 "nbformat_minor": 4
}
