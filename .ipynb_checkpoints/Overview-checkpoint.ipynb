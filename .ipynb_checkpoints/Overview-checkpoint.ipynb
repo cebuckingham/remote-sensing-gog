{
 "cells": [
  {
   "cell_type": "markdown",
   "metadata": {},
   "source": [
    "## Remote Sensing of Sea Surface Salinity in the Gulf of Guinea"
   ]
  },
  {
   "cell_type": "markdown",
   "metadata": {},
   "source": [
    "### _An overview of this brief course_"
   ]
  },
  {
   "cell_type": "markdown",
   "metadata": {},
   "source": [
    "During this week, you will learn about satellite measurements and how they can be used to examine physical processes relating to the coasts in the Gulf of Guinea. The tools at your disposal include\n",
    "\n",
    "-  observations from satellites,\n",
    "-  Python -- a sophisticated, powerful, and **free** programming language, and\n",
    "-  Jupyter Notebooks -- a **free** tool for running Python code and displaying these data.\n",
    "\n",
    "The project is broken up into three (3) lectures, each containing its own Jupyter Notebook and building on the previous day's lectures:\n",
    "1. Lesson 1: Reading satellite data contained in a scientific file format\n",
    "1. Lesson 2: Reading multiple satellite images and making a movie\n",
    "1. Lesson 3: Examining a time series and spectra at a single location (lat,lon)\n",
    "\n",
    "So, for example, you could accomplish the tasks in this project on Monday, Wednesday, and Friday. (We suggest, however, saving one or two of the \"off days\" to ask questions from the other students and work together to try to solve these problems. You could even try to apply the same methods to sea surface temperature measurements, which can be found here: .)\n",
    "\n",
    "At the end of this project, you should have the following knowledge and skills:\n",
    "\n",
    "*  understanding of the power and limitations of satellite measurements (specifically sea surface salinity measurements)\n",
    "*  ability to program Python code to read in netcdf (.nc) files and display them as images, even making movies of the ocean surface\n",
    "*  be able to plot a time series (a variable as a function of time) and examine its spectrum (energy as a function of frequency)\n",
    "\n",
    "If you understand these concepts, you can then apply them to other datasets, such as sea surface temperature. We will leave that as an exercise for the reader."
   ]
  },
  {
   "cell_type": "markdown",
   "metadata": {},
   "source": [
    "Your friendly instructors,\n",
    "\n",
    "Christian Buckingham & Ebenezer Nyadjro"
   ]
  },
  {
   "cell_type": "markdown",
   "metadata": {},
   "source": [
    "***"
   ]
  },
  {
   "cell_type": "markdown",
   "metadata": {},
   "source": [
    "**Some useful resources on sea surface salinity (SSS) from satellites and Python:**"
   ]
  },
  {
   "cell_type": "markdown",
   "metadata": {},
   "source": [
    "1. Sea surface salinity (SSS) from satellites:\n",
    "* history: http://www.salinityremotesensing.ifremer.fr/salinity-remote-sensing/a-brief-history\n",
    "* physics: http://www.salinityremotesensing.ifremer.fr/salinity-remote-sensing/how-it-works\n",
    "2. How to program in Python and some basics of \"big data\" processing:\n",
    "* https://earth-env-data-science.github.io/lectures/core_python/python_fundamentals.html"
   ]
  },
  {
   "cell_type": "code",
   "execution_count": null,
   "metadata": {},
   "outputs": [],
   "source": []
  }
 ],
 "metadata": {
  "kernelspec": {
   "display_name": "Python 3",
   "language": "python",
   "name": "python3"
  },
  "language_info": {
   "codemirror_mode": {
    "name": "ipython",
    "version": 3
   },
   "file_extension": ".py",
   "mimetype": "text/x-python",
   "name": "python",
   "nbconvert_exporter": "python",
   "pygments_lexer": "ipython3",
   "version": "3.6.9"
  }
 },
 "nbformat": 4,
 "nbformat_minor": 4
}
