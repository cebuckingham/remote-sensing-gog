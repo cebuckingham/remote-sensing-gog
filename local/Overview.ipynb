{
 "cells": [
  {
   "cell_type": "markdown",
   "metadata": {},
   "source": [
    "# Remote Sensing in the Gulf of Guinea"
   ]
  },
  {
   "cell_type": "markdown",
   "metadata": {},
   "source": [
    "## _An overview of this project_"
   ]
  },
  {
   "cell_type": "markdown",
   "metadata": {},
   "source": [
    "During this week, you will learn about satellite measurements and how they can be used to examine physical processes relating to the coasts in the Gulf of Guinea. The tools at your disposal include\n",
    "\n",
    "-  observations from satellites (**sea surface salinity** and sea surface temperature),\n",
    "-  Python -- a sophisticated, powerful, and **free** programming language, and\n",
    "-  Jupyter Notebooks -- a **free** tool for running Python code and displaying these data.\n",
    "\n",
    "The project is broken up into three (3) lessons, each containing its own Notebook and building on the previous day's lesson:\n",
    "1. Lesson 1: Reading satellite data contained in a scientific file format\n",
    "1. Lesson 2: Reading multiple satellite images and making a movie\n",
    "1. Lesson 3: Examining a time series and spectra at a single location (lat,lon)\n",
    "\n",
    "So, for example, you could accomplish the tasks in this project on Monday, Wednesay, and Friday. **Note: we suggest saving one or two of the \"off days\" to ask questions from the other project participants and work together to try to solve these problems. This could be via email or the Slack channel set up by the COESSING team.** One could even try to apply the same methods used in these lessons to sea surface temperature measurements, which can be found here http://data.remss.com/SST/daily/mw/v05.0/netcdf/ (microwave measurements only) or here http://data.remss.com/SST/daily/mw_ir/v05.0/netcdf/ (a blended product made from both microwave + infrared measurements). The latter is only **extra** and not intended to be part of the main set of lessons.\n",
    "\n",
    "At the end of this project, you should have the following knowledge and skills:\n",
    "\n",
    "*  understanding of the power and limitations of satellite measurements (specifically sea surface salinity measurements)\n",
    "*  ability to program Python code to read in netcdf (.nc) files and display them as images, even making movies of the ocean surface\n",
    "*  be able to plot a time series (a variable as a function of time) and examine its spectrum (energy as a function of frequency)\n",
    "\n",
    "If you understand these concepts, you should hopefully be able to apply them to other satellite datasets.\n",
    "\n",
    "We are excited to be working with you this week, if only remotely, and wish you all the best as you struggle to handle the confinement and uncertainty regarding COVID-19."
   ]
  },
  {
   "cell_type": "markdown",
   "metadata": {},
   "source": [
    "Your friendly instructors,\n",
    "\n",
    "**Christian Buckingham & Ebenezer Nyadjro**"
   ]
  },
  {
   "cell_type": "markdown",
   "metadata": {},
   "source": [
    "***"
   ]
  },
  {
   "cell_type": "markdown",
   "metadata": {},
   "source": [
    "### Some helpful resources on sea surface salinity (SSS) measurements and Python:**"
   ]
  },
  {
   "cell_type": "markdown",
   "metadata": {},
   "source": [
    "1. Sea surface salinity (SSS) from satellites:\n",
    "* history: http://www.salinityremotesensing.ifremer.fr/salinity-remote-sensing/a-brief-history\n",
    "* physics: http://www.salinityremotesensing.ifremer.fr/salinity-remote-sensing/how-it-works\n",
    "2. How to program in Python and some basics of \"big data\" processing:\n",
    "* https://earth-env-data-science.github.io/lectures/core_python/python_fundamentals.html"
   ]
  },
  {
   "cell_type": "code",
   "execution_count": null,
   "metadata": {},
   "outputs": [],
   "source": []
  }
 ],
 "metadata": {
  "kernelspec": {
   "display_name": "Python 3",
   "language": "python",
   "name": "python3"
  },
  "language_info": {
   "codemirror_mode": {
    "name": "ipython",
    "version": 3
   },
   "file_extension": ".py",
   "mimetype": "text/x-python",
   "name": "python",
   "nbconvert_exporter": "python",
   "pygments_lexer": "ipython3",
   "version": "3.6.9"
  }
 },
 "nbformat": 4,
 "nbformat_minor": 4
}
